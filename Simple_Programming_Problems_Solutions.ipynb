{
 "cells": [
  {
   "cell_type": "markdown",
   "metadata": {},
   "source": [
    "### Simple Programming Questions and Solutions"
   ]
  },
  {
   "cell_type": "markdown",
   "metadata": {},
   "source": [
    "#### 1. Print \"Hello World\""
   ]
  },
  {
   "cell_type": "code",
   "execution_count": 1,
   "metadata": {},
   "outputs": [
    {
     "name": "stdout",
     "output_type": "stream",
     "text": [
      "Hello World\n"
     ]
    }
   ],
   "source": [
    "print(\"Hello World\")"
   ]
  },
  {
   "cell_type": "markdown",
   "metadata": {},
   "source": [
    "#### 2. Ask Name and Greet with that name"
   ]
  },
  {
   "cell_type": "code",
   "execution_count": 2,
   "metadata": {},
   "outputs": [
    {
     "name": "stdout",
     "output_type": "stream",
     "text": [
      "What is your name? Oindrila\n",
      "Hello  Oindrila\n"
     ]
    }
   ],
   "source": [
    "name = input('What is your name? ')\n",
    "print(\"Hello \", name)"
   ]
  },
  {
   "cell_type": "markdown",
   "metadata": {},
   "source": [
    "#### 3. Modify above code  such that the users Sam and Bob are only greeted with their names"
   ]
  },
  {
   "cell_type": "code",
   "execution_count": 3,
   "metadata": {},
   "outputs": [
    {
     "name": "stdout",
     "output_type": "stream",
     "text": [
      "What is your name?Sam\n",
      "Hello Sam\n"
     ]
    }
   ],
   "source": [
    "name = input('What is your name?')\n",
    "if name.lower() in ['sam','bob']:\n",
    "    print(\"Hello \" +name)"
   ]
  },
  {
   "cell_type": "markdown",
   "metadata": {},
   "source": [
    "#### 4. Ask the user for a number n and prints the sum of the numbers 1 to n"
   ]
  },
  {
   "cell_type": "code",
   "execution_count": 4,
   "metadata": {},
   "outputs": [
    {
     "name": "stdout",
     "output_type": "stream",
     "text": [
      "Enter a number: 5\n",
      "You have entered:  5\n",
      "The sum of numbers from 1.. 5  is:  15\n"
     ]
    }
   ],
   "source": [
    "n = int(input(\"Enter a number: \"))\n",
    "print(\"You have entered: \", n)\n",
    "\n",
    "result = 0\n",
    "for i in range(n+1):\n",
    "    #print(i)\n",
    "    result = result + i\n",
    "print(\"The sum of numbers from 1..\", n,\" is: \" ,result)"
   ]
  },
  {
   "cell_type": "markdown",
   "metadata": {},
   "source": [
    "#### 5. Modify the previous program such that only multiples of three or five are considered in the sum,"
   ]
  },
  {
   "cell_type": "code",
   "execution_count": 5,
   "metadata": {},
   "outputs": [
    {
     "name": "stdout",
     "output_type": "stream",
     "text": [
      "Enter a number: 8\n",
      "You have entered: 8\n",
      "Your answer is: 14\n"
     ]
    }
   ],
   "source": [
    "n = int(input(\"Enter a number: \"))\n",
    "print(\"You have entered:\", n)\n",
    "\n",
    "result = 0\n",
    "for i in range(n+1):\n",
    "    if (i%3 == 0) or (i%5==0):\n",
    "         #print(i)\n",
    "         result = result + i\n",
    "print(\"Your answer is:\" ,result)"
   ]
  },
  {
   "cell_type": "markdown",
   "metadata": {},
   "source": [
    "#### 6. Print odd or even"
   ]
  },
  {
   "cell_type": "code",
   "execution_count": 6,
   "metadata": {},
   "outputs": [
    {
     "name": "stdout",
     "output_type": "stream",
     "text": [
      "Enter a Number: 87\n",
      "You have entered an Odd Number\n"
     ]
    }
   ],
   "source": [
    "n = input(\"Enter a Number: \")\n",
    "n = int(n)\n",
    "if (n%2 == 0):\n",
    "    print(\"You have entered an Even Number\")\n",
    "else:\n",
    "    print(\"You have entered an Odd Number\")"
   ]
  },
  {
   "cell_type": "markdown",
   "metadata": {},
   "source": [
    "#### 7. Print a multiplication table for a given number"
   ]
  },
  {
   "cell_type": "code",
   "execution_count": 7,
   "metadata": {},
   "outputs": [
    {
     "name": "stdout",
     "output_type": "stream",
     "text": [
      "Enter a number: 9\n",
      "***Multiplation table***\n",
      "9 x 1 = 9\n",
      "9 x 2 = 18\n",
      "9 x 3 = 27\n",
      "9 x 4 = 36\n",
      "9 x 5 = 45\n",
      "9 x 6 = 54\n",
      "9 x 7 = 63\n",
      "9 x 8 = 72\n",
      "9 x 9 = 81\n",
      "9 x 10 = 90\n"
     ]
    }
   ],
   "source": [
    "n = input(\"Enter a number: \")\n",
    "n = int(n)\n",
    "print(\"***Multiplation table***\")\n",
    "for i in range(1,11):\n",
    "    print(n, 'x', i, '=', n*i)"
   ]
  },
  {
   "cell_type": "markdown",
   "metadata": {},
   "source": [
    "#### 8. Find kth smallest element"
   ]
  },
  {
   "cell_type": "code",
   "execution_count": 8,
   "metadata": {},
   "outputs": [],
   "source": [
    "def find_kth_smallest_element(arr, k):\n",
    "    arr = sorted(arr)\n",
    "    print(\"Sorted Array: \", arr)\n",
    "    return(arr[k-1])\n",
    "    "
   ]
  },
  {
   "cell_type": "code",
   "execution_count": 9,
   "metadata": {},
   "outputs": [
    {
     "name": "stdout",
     "output_type": "stream",
     "text": [
      "Sorted Array:  [0, 2, 3, 5, 5, 78, 87, 89, 101]\n"
     ]
    },
    {
     "data": {
      "text/plain": [
       "89"
      ]
     },
     "execution_count": 9,
     "metadata": {},
     "output_type": "execute_result"
    }
   ],
   "source": [
    "arr = [3,5,78,2,89,5,101,0,87]\n",
    "find_kth_smallest_element(arr,8)"
   ]
  },
  {
   "cell_type": "markdown",
   "metadata": {},
   "source": [
    "#### 9. Check If a Number is Prime"
   ]
  },
  {
   "cell_type": "code",
   "execution_count": 10,
   "metadata": {},
   "outputs": [
    {
     "name": "stdout",
     "output_type": "stream",
     "text": [
      "Enter any number: 67\n",
      "67 is a prime number\n"
     ]
    }
   ],
   "source": [
    "# taking input from user\n",
    "number = int(input(\"Enter any number: \"))\n",
    "\n",
    "# prime number is always greater than 1\n",
    "if number > 1:\n",
    "    for i in range(2, number):\n",
    "        if (number % i) == 0:\n",
    "            print(number, \"is not a prime number\")\n",
    "            break\n",
    "    else:\n",
    "        print(number, \"is a prime number\")\n",
    "\n",
    "# if the entered number is less than or equal to 1\n",
    "# then it is not prime number\n",
    "else:\n",
    "    print(number, \"is not a prime number\")"
   ]
  },
  {
   "cell_type": "markdown",
   "metadata": {},
   "source": [
    "#### 10. Take a number and returns a list of its digits."
   ]
  },
  {
   "cell_type": "code",
   "execution_count": 11,
   "metadata": {},
   "outputs": [
    {
     "name": "stdout",
     "output_type": "stream",
     "text": [
      "Enter any number: 6789345689\n",
      "[6, 7, 8, 9, 3, 4, 5, 6, 8, 9]\n"
     ]
    }
   ],
   "source": [
    "# taking input from user\n",
    "number = input(\"Enter any number: \")\n",
    "res = [int(x) for x in number] \n",
    "print(res)"
   ]
  },
  {
   "cell_type": "markdown",
   "metadata": {},
   "source": [
    "#### 11. Write a program that asks the user for a number n and gives them the possibility to choose between computing the sum and computing the product of 1,…,n."
   ]
  },
  {
   "cell_type": "code",
   "execution_count": 12,
   "metadata": {
    "scrolled": true
   },
   "outputs": [
    {
     "name": "stdout",
     "output_type": "stream",
     "text": [
      "Enter a Number: 6\n",
      "Do you want to get a Sum or Product of 1..n?product\n",
      "Your answer is: 720\n"
     ]
    }
   ],
   "source": [
    "n = int(input(\"Enter a Number: \"))\n",
    "choice = input(\"Do you want to get a Sum or Product of 1..n?\")\n",
    "choice = choice.lower()\n",
    "sum_value = 0\n",
    "prod_value = 1\n",
    "if choice == \"sum\":\n",
    "    for i in range(1, n+1):\n",
    "        sum_value = sum_value + i\n",
    "    print(\"Your answer is:\" ,sum_value)\n",
    "elif choice == \"product\":\n",
    "    for i in range(1,n+1):\n",
    "        #print(i)\n",
    "        prod_value = (prod_value * i)\n",
    "    print(\"Your answer is:\" , prod_value)\n",
    "else:\n",
    "    print(\"Please enter your choice correctly\")"
   ]
  },
  {
   "cell_type": "markdown",
   "metadata": {},
   "source": [
    "#### 12. Check if a string is palindrome or not"
   ]
  },
  {
   "cell_type": "code",
   "execution_count": 13,
   "metadata": {},
   "outputs": [
    {
     "name": "stdout",
     "output_type": "stream",
     "text": [
      "Enter a string: madam\n",
      "You have entered a palindrome\n"
     ]
    }
   ],
   "source": [
    "def isPalindrome(s): \n",
    "    return s == s[::-1] \n",
    "\n",
    "a = str(input(\"Enter a string: \"))\n",
    "result = isPalindrome(a)\n",
    "if result:\n",
    "    print(\"You have entered a palindrome\")\n",
    "else:\n",
    "    print(\"Your entered string is not a palindrome\")\n"
   ]
  },
  {
   "cell_type": "markdown",
   "metadata": {},
   "source": [
    "#### 13. Count the occurrence of a given character in a String"
   ]
  },
  {
   "cell_type": "code",
   "execution_count": 14,
   "metadata": {},
   "outputs": [
    {
     "name": "stdout",
     "output_type": "stream",
     "text": [
      "Enter a string: What a beautiful day!\n",
      "Which character you need a count for? a\n",
      "The Count is: 4\n"
     ]
    }
   ],
   "source": [
    "a = str(input(\"Enter a string: \"))\n",
    "b = input(\"Which character you need a count for? \")\n",
    "count = 0\n",
    "\n",
    "for i in a:\n",
    "    if i.lower() == b.lower():\n",
    "        count = count + 1\n",
    "print(\"The Count is:\" , count)"
   ]
  },
  {
   "cell_type": "markdown",
   "metadata": {},
   "source": [
    "#### 14. Write a Function such that given an array A of N integers, returns the smallest positive integer (greater than 0) that does not occur in A."
   ]
  },
  {
   "cell_type": "code",
   "execution_count": 15,
   "metadata": {},
   "outputs": [],
   "source": [
    "def FindMissingNum(A):\n",
    "    try:\n",
    "        B = [x for x in A if x > 0]\n",
    "        B = sorted(B)\n",
    "        for i in range(len(B)):\n",
    "            if (B[i+1] - B[i] > 1):\n",
    "                return(B[i] + 1)\n",
    "            elif (B[i+1] - B[i] == 0) or (B[i+1] - B[i] == 1):\n",
    "                pass\n",
    "            else:\n",
    "                return(B[-1] + 1)\n",
    "    except  e:\n",
    "        print(e)\n",
    "        "
   ]
  },
  {
   "cell_type": "code",
   "execution_count": 16,
   "metadata": {},
   "outputs": [
    {
     "data": {
      "text/plain": [
       "5"
      ]
     },
     "execution_count": 16,
     "metadata": {},
     "output_type": "execute_result"
    }
   ],
   "source": [
    "A = [1, 3, 6, 4, 1, 2]\n",
    "FindMissingNum(A)"
   ]
  },
  {
   "cell_type": "markdown",
   "metadata": {},
   "source": [
    "#### 15. Guess the Number Game"
   ]
  },
  {
   "cell_type": "code",
   "execution_count": 17,
   "metadata": {},
   "outputs": [
    {
     "name": "stdout",
     "output_type": "stream",
     "text": [
      "*** Number Guessing Game***\n",
      "Guess the number between 1 and 100: 50\n",
      "Your guess is too high. Try again!\n",
      "Guess the number between 1 and 100 and something less than before: 40\n",
      "Your guess is too high. Try again!\n",
      "Guess the number between 1 and 100 and something less than before: 30\n",
      "Your guess is too less.Try again\n",
      "Guess the number between 1 and 100 and something more than before: 34\n",
      "Your guess is too less.Try again\n",
      "Guess the number between 1 and 100 and something more than before: 37\n",
      "Your guess is too less.Try again\n",
      "Guess the number between 1 and 100 and something more than before: 39\n",
      "Sorry! YOU LOSE!!! The number is 38\n"
     ]
    }
   ],
   "source": [
    "import random\n",
    "print(\"*** Number Guessing Game***\")\n",
    "num = random.randint(1,99)\n",
    "guess = int(input(\"Guess the number between 1 and 100: \"))\n",
    "chance = 0\n",
    "while chance < 5:\n",
    "    if guess == num:\n",
    "        print(\"Congrats! You have guessed the number correct\")\n",
    "        break\n",
    "    elif guess > num:\n",
    "        print(\"Your guess is too high. Try again!\")\n",
    "        guess = int(input(\"Guess the number between 1 and 100 and something less than before: \"))\n",
    "        #chance = chance + 1\n",
    "    else:\n",
    "        print(\"Your guess is too less.Try again\")\n",
    "        guess = int(input(\"Guess the number between 1 and 100 and something more than before: \"))\n",
    "    \n",
    "    chance = chance + 1\n",
    "    \n",
    "if not chance < 5: \n",
    "    print(\"Sorry! YOU LOSE!!! The number is\", num) \n"
   ]
  },
  {
   "cell_type": "markdown",
   "metadata": {},
   "source": [
    "#### 16. Linear Search Algorithm"
   ]
  },
  {
   "cell_type": "code",
   "execution_count": 18,
   "metadata": {},
   "outputs": [],
   "source": [
    "def linear_search(arr,x):\n",
    "    '''check if num is present in given array arr '''\n",
    "    print(\"The input array is: \", arr)\n",
    "    print(\"The target number is: \", x )\n",
    "    for i in range(len(arr)):\n",
    "        if arr[i] == x:\n",
    "            print(\"The target number is present in the array at: \",i)\n",
    "            return(i)\n",
    "        \n",
    "    print(\"The target number is Not present in the array\")\n",
    "    return(-1)"
   ]
  },
  {
   "cell_type": "code",
   "execution_count": 19,
   "metadata": {},
   "outputs": [
    {
     "name": "stdout",
     "output_type": "stream",
     "text": [
      "The input array is:  [6, 12, 4, 56, 78, 85, 1, 2, 89, 100]\n",
      "The target number is:  3\n",
      "The target number is Not present in the array\n"
     ]
    }
   ],
   "source": [
    "index = linear_search([6,12,4,56,78,85,1,2,89,100],3)"
   ]
  },
  {
   "cell_type": "markdown",
   "metadata": {},
   "source": [
    "#### 17. Binray Search Algorithm"
   ]
  },
  {
   "cell_type": "code",
   "execution_count": 20,
   "metadata": {},
   "outputs": [],
   "source": [
    "def binary_search(arr, x):\n",
    "    '''check if num is present in given array arr '''\n",
    "    print(\"The input array is: \", arr)\n",
    "    print(\"The target number is: \",x )\n",
    "    arr = sorted(arr)\n",
    "    print(\"The sorted array is: \", arr)\n",
    "    low = 0\n",
    "    high = len(arr) - 1\n",
    "    mid = 0\n",
    "  \n",
    "    while low <= high:  \n",
    "        mid = (high + low) // 2\n",
    "  \n",
    "        # Check if x is present at mid \n",
    "        if arr[mid] < x: \n",
    "            low = mid + 1  \n",
    "        # If x is greater, ignore left half \n",
    "        elif arr[mid] > x: \n",
    "            high = mid - 1\n",
    "        # If x is smaller, ignore right half \n",
    "        else: \n",
    "            print(\"The targer element is present in the given array\")\n",
    "            return mid \n",
    "    # If we reach here, then the element was not present \n",
    "    print(\"The targer element is NOT present in the given array\")\n",
    "    return -1\n",
    "  "
   ]
  },
  {
   "cell_type": "code",
   "execution_count": 21,
   "metadata": {},
   "outputs": [
    {
     "name": "stdout",
     "output_type": "stream",
     "text": [
      "The input array is:  [6, 12, 4, 56, 78, 85, 1, 2, 89, 100]\n",
      "The target number is:  89\n",
      "The sorted array is:  [1, 2, 4, 6, 12, 56, 78, 85, 89, 100]\n",
      "The targer element is present in the given array\n"
     ]
    }
   ],
   "source": [
    "index = binary_search([6,12,4,56,78,85,1,2,89,100],89)"
   ]
  },
  {
   "cell_type": "markdown",
   "metadata": {},
   "source": [
    "#### 18.a. Check if a Number exist in a Matrix - Method 1"
   ]
  },
  {
   "cell_type": "code",
   "execution_count": 22,
   "metadata": {},
   "outputs": [],
   "source": [
    "def matrix_search(mat,x):\n",
    "    '''check if num is present in given matrix mat '''\n",
    "    print(\"The input matrix is: \", mat)\n",
    "    print(\"The target number is: \", x )\n",
    "    rows = len(mat)\n",
    "    cols = len(mat[1])\n",
    "    print(\"Rows: \",rows , \"Columns: \",cols)\n",
    "    for i in range(rows):\n",
    "        for j in range(cols):\n",
    "            if mat[i][j] == x:\n",
    "                print(\"The target number is present in the matrix at: \",(i,j))\n",
    "                return(i,j)\n",
    "                \n",
    "    print(\"The target number is NOT present in the matrix. \")\n",
    "    return(-1)"
   ]
  },
  {
   "cell_type": "code",
   "execution_count": 23,
   "metadata": {},
   "outputs": [
    {
     "name": "stdout",
     "output_type": "stream",
     "text": [
      "The input matrix is:  [[4, 5, 6, 7], [10, 2, 13, 0], [1, 11, 18, 45]]\n",
      "The target number is:  18\n",
      "Rows:  3 Columns:  4\n",
      "The target number is present in the matrix at:  (2, 2)\n"
     ]
    },
    {
     "data": {
      "text/plain": [
       "(2, 2)"
      ]
     },
     "execution_count": 23,
     "metadata": {},
     "output_type": "execute_result"
    }
   ],
   "source": [
    "mat = [[4, 5, 6,7], \n",
    "       [10, 2, 13, 0], \n",
    "       [1, 11, 18, 45]\n",
    "      ] \n",
    "matrix_search(mat,18)"
   ]
  },
  {
   "cell_type": "markdown",
   "metadata": {},
   "source": [
    "#### 18.b. Check if a Number exist in a Matrix - Method 2"
   ]
  },
  {
   "cell_type": "code",
   "execution_count": 24,
   "metadata": {},
   "outputs": [],
   "source": [
    "def matrix_search_any(mat,x):\n",
    "    # using any() + list comprehension \n",
    "    result = any(x in sub for sub in mat)\n",
    "    return(result)"
   ]
  },
  {
   "cell_type": "code",
   "execution_count": 25,
   "metadata": {},
   "outputs": [
    {
     "data": {
      "text/plain": [
       "True"
      ]
     },
     "execution_count": 25,
     "metadata": {},
     "output_type": "execute_result"
    }
   ],
   "source": [
    "mat = [[4, 5, 6,7], \n",
    "       [10, 2, 13, 0], \n",
    "       [1, 11, 18, 45]\n",
    "      ] \n",
    "matrix_search_any(mat, 5)"
   ]
  },
  {
   "cell_type": "markdown",
   "metadata": {},
   "source": [
    "#### 19. Find the Largest Number in a Matrix"
   ]
  },
  {
   "cell_type": "code",
   "execution_count": 26,
   "metadata": {},
   "outputs": [],
   "source": [
    "def find_largest_num(mat):\n",
    "    rows = len(mat)\n",
    "    cols = len(mat[0])\n",
    "    n = mat[0][0]\n",
    "    \n",
    "    for i in range(rows):\n",
    "        for j in range(cols):\n",
    "            if n < mat[i][j]:\n",
    "                n = mat[i][j]\n",
    "    return(n)\n",
    "            "
   ]
  },
  {
   "cell_type": "code",
   "execution_count": 27,
   "metadata": {},
   "outputs": [
    {
     "data": {
      "text/plain": [
       "87"
      ]
     },
     "execution_count": 27,
     "metadata": {},
     "output_type": "execute_result"
    }
   ],
   "source": [
    "mat = [[4, 5, 6,7], \n",
    "       [87, 2, 13, 0], \n",
    "       [1, 11, 18, 45]\n",
    "      ] \n",
    "find_largest_num(mat)"
   ]
  },
  {
   "cell_type": "markdown",
   "metadata": {},
   "source": [
    "#### 20. Given a full name, Init capitalize the name"
   ]
  },
  {
   "cell_type": "code",
   "execution_count": 28,
   "metadata": {},
   "outputs": [],
   "source": [
    "def capitalize_input(s):\n",
    "    a = s.split()\n",
    "    result = ''\n",
    "    for i in range(len(a)):\n",
    "        result = result + \" \" +a[i].capitalize()\n",
    "    return(result)    "
   ]
  },
  {
   "cell_type": "code",
   "execution_count": 29,
   "metadata": {},
   "outputs": [
    {
     "data": {
      "text/plain": [
       "' Oindrila Sen'"
      ]
     },
     "execution_count": 29,
     "metadata": {},
     "output_type": "execute_result"
    }
   ],
   "source": [
    "capitalize_input('oindrila sen')"
   ]
  },
  {
   "cell_type": "code",
   "execution_count": null,
   "metadata": {},
   "outputs": [],
   "source": []
  }
 ],
 "metadata": {
  "kernelspec": {
   "display_name": "Python 3",
   "language": "python",
   "name": "python3"
  },
  "language_info": {
   "codemirror_mode": {
    "name": "ipython",
    "version": 3
   },
   "file_extension": ".py",
   "mimetype": "text/x-python",
   "name": "python",
   "nbconvert_exporter": "python",
   "pygments_lexer": "ipython3",
   "version": "3.7.1"
  }
 },
 "nbformat": 4,
 "nbformat_minor": 2
}
