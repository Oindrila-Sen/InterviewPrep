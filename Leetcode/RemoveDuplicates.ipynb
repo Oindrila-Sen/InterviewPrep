{
 "cells": [
  {
   "cell_type": "markdown",
   "id": "optimum-ghana",
   "metadata": {},
   "source": [
    "## Remove Duplicates from Sorted Array"
   ]
  },
  {
   "cell_type": "markdown",
   "id": "going-elephant",
   "metadata": {},
   "source": [
    "Given a sorted array nums, remove the duplicates in-place such that each element appears only once and returns the new length.\n",
    "\n",
    "Do not allocate extra space for another array, you must do this by modifying the input array in-place with O(1) extra memory.\n",
    "\n",
    "Clarification:\n",
    "\n",
    "Confused why the returned value is an integer but your answer is an array?\n",
    "\n",
    "Note that the input array is passed in by reference, which means a modification to the input array will be known to the caller as well."
   ]
  },
  {
   "cell_type": "markdown",
   "id": "moral-airplane",
   "metadata": {},
   "source": [
    "## Python Solution"
   ]
  },
  {
   "cell_type": "code",
   "execution_count": 1,
   "id": "manufactured-collectible",
   "metadata": {},
   "outputs": [],
   "source": [
    "from typing import List"
   ]
  },
  {
   "cell_type": "code",
   "execution_count": 2,
   "id": "civic-settlement",
   "metadata": {},
   "outputs": [],
   "source": [
    "class Solution():\n",
    "    def removeDuplicates(self, nums: List[int]) -> int:\n",
    "        prev = None\n",
    "        i = 0\n",
    "        while i < len(nums):\n",
    "            if nums[i] == prev:\n",
    "                #print(i,\"if\", prev)\n",
    "                del nums[i]\n",
    "            else:\n",
    "                #print(i,\"else\",prev)\n",
    "                prev = nums[i]\n",
    "                i = i + 1\n",
    "        return(len(nums))"
   ]
  },
  {
   "cell_type": "markdown",
   "id": "linear-marble",
   "metadata": {},
   "source": [
    "## Test Cases"
   ]
  },
  {
   "cell_type": "code",
   "execution_count": 3,
   "id": "norwegian-invalid",
   "metadata": {},
   "outputs": [
    {
     "data": {
      "text/plain": [
       "2"
      ]
     },
     "execution_count": 3,
     "metadata": {},
     "output_type": "execute_result"
    }
   ],
   "source": [
    "nums = [1,1,2]\n",
    "#nums = [0,0,1,1,1,2,2,3,3,4]\n",
    "#nums = [1,1,1]\n",
    "sol = Solution()\n",
    "sol.removeDuplicates(nums)"
   ]
  },
  {
   "cell_type": "code",
   "execution_count": null,
   "id": "genetic-response",
   "metadata": {},
   "outputs": [],
   "source": []
  }
 ],
 "metadata": {
  "kernelspec": {
   "display_name": "Python 3",
   "language": "python",
   "name": "python3"
  },
  "language_info": {
   "codemirror_mode": {
    "name": "ipython",
    "version": 3
   },
   "file_extension": ".py",
   "mimetype": "text/x-python",
   "name": "python",
   "nbconvert_exporter": "python",
   "pygments_lexer": "ipython3",
   "version": "3.7.1"
  }
 },
 "nbformat": 4,
 "nbformat_minor": 5
}
