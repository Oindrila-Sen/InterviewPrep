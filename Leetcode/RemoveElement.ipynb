{
 "cells": [
  {
   "cell_type": "markdown",
   "id": "ecological-purple",
   "metadata": {},
   "source": [
    "##  Remove Element"
   ]
  },
  {
   "cell_type": "markdown",
   "id": "interracial-crime",
   "metadata": {},
   "source": [
    "Given an array nums and a value val, remove all instances of that value in-place and return the new length.\n",
    "\n",
    "Do not allocate extra space for another array, you must do this by modifying the input array in-place with O(1) extra memory.\n",
    "\n",
    "The order of elements can be changed. It doesn't matter what you leave beyond the new length."
   ]
  },
  {
   "cell_type": "markdown",
   "id": "artificial-sight",
   "metadata": {},
   "source": [
    "## Python Solution"
   ]
  },
  {
   "cell_type": "code",
   "execution_count": 1,
   "id": "caroline-contents",
   "metadata": {},
   "outputs": [],
   "source": [
    "from typing import List"
   ]
  },
  {
   "cell_type": "code",
   "execution_count": 2,
   "id": "proof-provision",
   "metadata": {},
   "outputs": [],
   "source": [
    "class Solution:\n",
    "    def removeElement(self, nums: List[int], val: int) -> int:\n",
    "        i = 0\n",
    "        while i < len(nums):\n",
    "            if nums[i] == val:\n",
    "                del nums[i]\n",
    "            else:\n",
    "                i = i + 1\n",
    "                continue\n",
    "        return(len(nums))"
   ]
  },
  {
   "cell_type": "markdown",
   "id": "finished-poker",
   "metadata": {},
   "source": [
    "## Test Caeses"
   ]
  },
  {
   "cell_type": "code",
   "execution_count": 3,
   "id": "anticipated-tonight",
   "metadata": {},
   "outputs": [
    {
     "data": {
      "text/plain": [
       "2"
      ]
     },
     "execution_count": 3,
     "metadata": {},
     "output_type": "execute_result"
    }
   ],
   "source": [
    "#[3,2,2,3]3\n",
    "#[0,1,2,2,3,0,4,2]2\n",
    "\n",
    "sol =Solution()\n",
    "sol.removeElement([3,2,2,3],3)"
   ]
  }
 ],
 "metadata": {
  "kernelspec": {
   "display_name": "Python 3",
   "language": "python",
   "name": "python3"
  },
  "language_info": {
   "codemirror_mode": {
    "name": "ipython",
    "version": 3
   },
   "file_extension": ".py",
   "mimetype": "text/x-python",
   "name": "python",
   "nbconvert_exporter": "python",
   "pygments_lexer": "ipython3",
   "version": "3.7.1"
  }
 },
 "nbformat": 4,
 "nbformat_minor": 5
}
