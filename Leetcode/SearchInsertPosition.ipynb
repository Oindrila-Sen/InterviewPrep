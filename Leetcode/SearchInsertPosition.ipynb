{
 "cells": [
  {
   "cell_type": "markdown",
   "id": "pediatric-murray",
   "metadata": {},
   "source": [
    "## Search Insert Position"
   ]
  },
  {
   "cell_type": "markdown",
   "id": "friendly-circulation",
   "metadata": {},
   "source": [
    "Given a sorted array of distinct integers and a target value, return the index if the target is found. If not, return the index where it would be if it were inserted in order."
   ]
  },
  {
   "cell_type": "markdown",
   "id": "shaped-folks",
   "metadata": {},
   "source": [
    "## Python Solution"
   ]
  },
  {
   "cell_type": "code",
   "execution_count": 1,
   "id": "therapeutic-prisoner",
   "metadata": {},
   "outputs": [],
   "source": [
    "from typing import List"
   ]
  },
  {
   "cell_type": "code",
   "execution_count": 2,
   "id": "advised-worry",
   "metadata": {},
   "outputs": [],
   "source": [
    "class Solution:\n",
    "    def searchInsert(self, nums: List[int], target: int) -> int:\n",
    "        if target > nums[-1]:\n",
    "            return(len(nums))\n",
    "        elif target < nums[0]:\n",
    "            return(0)\n",
    "        else:\n",
    "            for i in range(len(nums)):\n",
    "                if target == nums[i]:\n",
    "                    return(i)\n",
    "                elif target > nums[i]:\n",
    "                    continue\n",
    "                else:\n",
    "                    return(i)\n",
    "            "
   ]
  },
  {
   "cell_type": "markdown",
   "id": "mounted-pursuit",
   "metadata": {},
   "source": [
    "## Test Cases"
   ]
  },
  {
   "cell_type": "code",
   "execution_count": 3,
   "id": "recorded-canal",
   "metadata": {},
   "outputs": [
    {
     "data": {
      "text/plain": [
       "1"
      ]
     },
     "execution_count": 3,
     "metadata": {},
     "output_type": "execute_result"
    }
   ],
   "source": [
    "#nums = [1,3,5,6]\n",
    "#target =5\n",
    "nums =[1,3,5,6]\n",
    "target =2\n",
    "#nums =[1,3,5,6]\n",
    "#target =7\n",
    "#nums =[1,3,5,6]\n",
    "#target =0\n",
    "#nums =[1]\n",
    "#target =0\n",
    "\n",
    "sol = Solution()\n",
    "sol.searchInsert(nums, target)"
   ]
  }
 ],
 "metadata": {
  "kernelspec": {
   "display_name": "Python 3",
   "language": "python",
   "name": "python3"
  },
  "language_info": {
   "codemirror_mode": {
    "name": "ipython",
    "version": 3
   },
   "file_extension": ".py",
   "mimetype": "text/x-python",
   "name": "python",
   "nbconvert_exporter": "python",
   "pygments_lexer": "ipython3",
   "version": "3.7.1"
  }
 },
 "nbformat": 4,
 "nbformat_minor": 5
}
