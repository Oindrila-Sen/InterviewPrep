{
 "cells": [
  {
   "cell_type": "markdown",
   "metadata": {},
   "source": [
    "## Valid Parentheses"
   ]
  },
  {
   "cell_type": "markdown",
   "metadata": {},
   "source": [
    "Given a string s containing just the characters '(', ')', '{', '}', '[' and ']', determine if the input string is valid.\n",
    "\n",
    "An input string is valid if:\n",
    "\n",
    "Open brackets must be closed by the same type of brackets.\n",
    "\n",
    "Open brackets must be closed in the correct order."
   ]
  },
  {
   "cell_type": "markdown",
   "metadata": {},
   "source": [
    "### Python Solution"
   ]
  },
  {
   "cell_type": "code",
   "execution_count": 1,
   "metadata": {},
   "outputs": [],
   "source": [
    "brac = {\")\": \"(\",\n",
    "        \"}\": \"{\",\n",
    "        \"]\": \"[\"\n",
    "       }\n",
    "class Solution:\n",
    "    def isValid(self, s: str) -> bool:\n",
    "        a = []\n",
    "        \n",
    "        for bracket in s:\n",
    "            if bracket in (\"(\",\"{\",\"[\"):\n",
    "                a.append(bracket)\n",
    "            # For closing bracket\n",
    "            else:\n",
    "                if a:\n",
    "                    if a.pop() != brac[bracket]:\n",
    "                        return(False)\n",
    "                else:\n",
    "                    return(False)\n",
    "        if len(a) != 0:\n",
    "            return(False)\n",
    "        else:\n",
    "            return(True)"
   ]
  },
  {
   "cell_type": "markdown",
   "metadata": {},
   "source": [
    "### Test Cases"
   ]
  },
  {
   "cell_type": "code",
   "execution_count": 2,
   "metadata": {},
   "outputs": [
    {
     "data": {
      "text/plain": [
       "True"
      ]
     },
     "execution_count": 2,
     "metadata": {},
     "output_type": "execute_result"
    }
   ],
   "source": [
    "#s = '()'\n",
    "#s = '(){'\n",
    "#s = '({})}([)'\n",
    "s = \"()[]{}\"\n",
    "#s = \"(]\"\n",
    "#s = \"([)]\"\n",
    "#s = \"{[]}\"\n",
    "\n",
    "\n",
    "sol = Solution()\n",
    "sol.isValid(s)"
   ]
  },
  {
   "cell_type": "code",
   "execution_count": null,
   "metadata": {},
   "outputs": [],
   "source": []
  }
 ],
 "metadata": {
  "kernelspec": {
   "display_name": "Python 3",
   "language": "python",
   "name": "python3"
  },
  "language_info": {
   "codemirror_mode": {
    "name": "ipython",
    "version": 3
   },
   "file_extension": ".py",
   "mimetype": "text/x-python",
   "name": "python",
   "nbconvert_exporter": "python",
   "pygments_lexer": "ipython3",
   "version": "3.7.1"
  }
 },
 "nbformat": 4,
 "nbformat_minor": 2
}
