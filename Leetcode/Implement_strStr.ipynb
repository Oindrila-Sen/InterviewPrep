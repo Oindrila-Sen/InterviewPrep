{
 "cells": [
  {
   "cell_type": "markdown",
   "id": "attempted-bahrain",
   "metadata": {},
   "source": [
    "## Implement strStr()"
   ]
  },
  {
   "cell_type": "markdown",
   "id": "constant-contribution",
   "metadata": {},
   "source": [
    "Implement strStr().\n",
    "\n",
    "Return the index of the first occurrence of needle in haystack, or -1 if needle is not part of haystack."
   ]
  },
  {
   "cell_type": "markdown",
   "id": "mediterranean-cycling",
   "metadata": {},
   "source": [
    "## Python Solution"
   ]
  },
  {
   "cell_type": "code",
   "execution_count": 1,
   "id": "standing-intention",
   "metadata": {},
   "outputs": [],
   "source": [
    "class Solution():\n",
    "    def strStr(self, haystack: str, needle: str) -> int:\n",
    "        if len(needle) < 1:\n",
    "            return(0)\n",
    "        else:\n",
    "            if needle not in haystack:\n",
    "                return(-1)\n",
    "            elif needle == haystack:\n",
    "                return(0)\n",
    "            else:\n",
    "                #print(1)\n",
    "                for i in range(len(haystack)-len(needle)+1):\n",
    "                    print(haystack[i:len(needle)+i], needle)\n",
    "                    if haystack[i:len(needle)+i] == needle:\n",
    "                        print(i)\n",
    "                        return(i)\n",
    "            \n"
   ]
  },
  {
   "cell_type": "markdown",
   "id": "ahead-washer",
   "metadata": {},
   "source": [
    "##  Test Cases"
   ]
  },
  {
   "cell_type": "code",
   "execution_count": 2,
   "id": "smoking-terminology",
   "metadata": {},
   "outputs": [
    {
     "name": "stdout",
     "output_type": "stream",
     "text": [
      "he ll\n",
      "el ll\n",
      "ll ll\n",
      "2\n"
     ]
    },
    {
     "data": {
      "text/plain": [
       "2"
      ]
     },
     "execution_count": 2,
     "metadata": {},
     "output_type": "execute_result"
    }
   ],
   "source": [
    "#\"hello\" \"ll\"\n",
    "# \"aaaaa\"\"bba\"\n",
    "#\"\"\"\"\n",
    "# \"a\" \"a\"\n",
    "# \"abc\", \"c\"\n",
    "\n",
    "sol = Solution()\n",
    "sol.strStr(\"hello\",\"ll\")\n",
    "#sol.strStr(\"aaaaa\",\"bba\")\n",
    "#sol.strStr(\"hellolll\",\"llo\")\n",
    "#sol.strStr(\"\",\"\")\n",
    "#sol.strStr(\"a\",\"a\")\n",
    "#sol.strStr(\"abc\",\"c\")"
   ]
  },
  {
   "cell_type": "code",
   "execution_count": null,
   "id": "quantitative-mother",
   "metadata": {},
   "outputs": [],
   "source": []
  }
 ],
 "metadata": {
  "kernelspec": {
   "display_name": "Python 3",
   "language": "python",
   "name": "python3"
  },
  "language_info": {
   "codemirror_mode": {
    "name": "ipython",
    "version": 3
   },
   "file_extension": ".py",
   "mimetype": "text/x-python",
   "name": "python",
   "nbconvert_exporter": "python",
   "pygments_lexer": "ipython3",
   "version": "3.7.1"
  }
 },
 "nbformat": 4,
 "nbformat_minor": 5
}
