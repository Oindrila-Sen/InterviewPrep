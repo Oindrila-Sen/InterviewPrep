{
 "cells": [
  {
   "cell_type": "markdown",
   "metadata": {},
   "source": [
    "## Merge Two Sorted Lists"
   ]
  },
  {
   "cell_type": "markdown",
   "metadata": {},
   "source": [
    "Merge two sorted linked lists and return it as a sorted list. The list should be made by splicing together the nodes of the first two lists."
   ]
  },
  {
   "cell_type": "markdown",
   "metadata": {},
   "source": [
    "## Python Solution"
   ]
  },
  {
   "cell_type": "code",
   "execution_count": 1,
   "metadata": {},
   "outputs": [],
   "source": [
    "# Definition for singly-linked list.\n",
    "class ListNode:\n",
    "     def __init__(self, val=0, next=None):\n",
    "         self.val = val\n",
    "         self.next = next"
   ]
  },
  {
   "cell_type": "code",
   "execution_count": 2,
   "metadata": {},
   "outputs": [],
   "source": [
    "class Solution:\n",
    "    def mergeTwoLists(self, l1: ListNode, l2: ListNode) -> ListNode:\n",
    "        tmp = ListNode()\n",
    "        l3 = tmp\n",
    "        #print(l1.val)\n",
    "        #print(l2.val)\n",
    "        while l1 and l2:\n",
    "            if l1.val <= l2.val:\n",
    "                l3.next = l1\n",
    "                l1 = l1.next\n",
    "                print(\"if\",l1.val,l3.val)\n",
    "            else:\n",
    "                l3.next = l2\n",
    "                l2 = l2.next\n",
    "                print(\"else\",l3.val)\n",
    "            l3 = l3.next\n",
    "            print(\"outside\",l3.val)\n",
    "        \n",
    "        if l1:\n",
    "            l3.next = l1\n",
    "        if l2:\n",
    "            l3.next = l2\n",
    "        return tmp.next\n",
    "        "
   ]
  },
  {
   "cell_type": "code",
   "execution_count": 3,
   "metadata": {},
   "outputs": [],
   "source": [
    "class Solution:\n",
    "    def mergeTwoLists(self, l1: ListNode, l2: ListNode) -> ListNode:\n",
    "        tmp = ListNode()\n",
    "        l3 = tmp\n",
    "\n",
    "        while l1 and l2:\n",
    "            if l1.val < l2.val:\n",
    "                l3.next = l1\n",
    "                l1 = l1.next\n",
    "                #print(\"if\",l3.val)\n",
    "            else:\n",
    "                l3.next = l2\n",
    "                l2 = l2.next\n",
    "                #print(\"else\",l3.val)\n",
    "            l3 = l3.next\n",
    "            #print(\"outside\",l3.val)\n",
    "        return(tmp.next)"
   ]
  },
  {
   "cell_type": "markdown",
   "metadata": {},
   "source": [
    "## Test Cases"
   ]
  },
  {
   "cell_type": "code",
   "execution_count": 4,
   "metadata": {},
   "outputs": [],
   "source": [
    "l1 = ListNode(1)\n",
    "l1.next = ListNode(2)\n",
    "l1.next.next = ListNode(3)\n",
    "l2 = ListNode(1)\n",
    "l2.next = ListNode(3)\n",
    "l2.next = ListNode(4)"
   ]
  },
  {
   "cell_type": "code",
   "execution_count": 5,
   "metadata": {},
   "outputs": [
    {
     "name": "stdout",
     "output_type": "stream",
     "text": [
      "1\n",
      "1\n",
      "2\n",
      "3\n",
      "4\n"
     ]
    }
   ],
   "source": [
    "if __name__ == '__main__':\n",
    "    l1 = ListNode(1)\n",
    "    l1.next = ListNode(2)\n",
    "    l1.next.next = ListNode(5)\n",
    "\n",
    "    l2 = ListNode(1)\n",
    "    l2.next = ListNode(3)\n",
    "    l2.next.next = ListNode(4)\n",
    "\n",
    "    sol = Solution()\n",
    "    l3 = sol.mergeTwoLists(l1,l2)\n",
    "    while l3:\n",
    "        print(l3.val)\n",
    "        l3 = l3.next"
   ]
  },
  {
   "cell_type": "code",
   "execution_count": null,
   "metadata": {},
   "outputs": [],
   "source": []
  }
 ],
 "metadata": {
  "kernelspec": {
   "display_name": "Python 3",
   "language": "python",
   "name": "python3"
  },
  "language_info": {
   "codemirror_mode": {
    "name": "ipython",
    "version": 3
   },
   "file_extension": ".py",
   "mimetype": "text/x-python",
   "name": "python",
   "nbconvert_exporter": "python",
   "pygments_lexer": "ipython3",
   "version": "3.7.1"
  }
 },
 "nbformat": 4,
 "nbformat_minor": 2
}
